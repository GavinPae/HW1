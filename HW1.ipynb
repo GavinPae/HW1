{
  "cells": [
    {
      "cell_type": "markdown",
      "metadata": {
        "id": "view-in-github",
        "colab_type": "text"
      },
      "source": [
        "<a href=\"https://colab.research.google.com/github/GavinPae/HW1/blob/main/HW1.ipynb\" target=\"_parent\"><img src=\"https://colab.research.google.com/assets/colab-badge.svg\" alt=\"Open In Colab\"/></a>"
      ]
    },
    {
      "cell_type": "code",
      "source": [
        "# Basic Arithmetic\n",
        "\n",
        "a=10\n",
        "b=5\n",
        "sum=a+b\n",
        "difference=a-b\n",
        "product=a*b\n",
        "quotient=a/b\n",
        "print(\"Sum:\", sum)\n",
        "print(\"Difference: \", difference)\n",
        "print(\"Product: \", product)\n",
        "print(\"Quotient: \", quotient)"
      ],
      "metadata": {
        "id": "y5jeJsaPrZ6G",
        "outputId": "d9a219a0-3710-4e38-fbc0-7b7552fe2ffe",
        "colab": {
          "base_uri": "https://localhost:8080/"
        }
      },
      "execution_count": null,
      "outputs": [
        {
          "output_type": "stream",
          "name": "stdout",
          "text": [
            "Sum: 15\n",
            "Difference:  5\n",
            "Product:  50\n",
            "Quotient:  2.0\n"
          ]
        }
      ]
    },
    {
      "cell_type": "code",
      "source": [
        "print(f\"The sum of two numbers {a}, {b} is {sum}\")"
      ],
      "metadata": {
        "id": "zf6jITdmsncR",
        "outputId": "822bba69-d87c-4597-bbef-b0978fd4e0fd",
        "colab": {
          "base_uri": "https://localhost:8080/"
        }
      },
      "execution_count": null,
      "outputs": [
        {
          "output_type": "stream",
          "name": "stdout",
          "text": [
            "The sum of two numbers 10, 5 is 15\n"
          ]
        }
      ]
    },
    {
      "cell_type": "code",
      "source": [
        "x=13/2\n",
        "print(x)\n",
        "y=13%2\n",
        "print(y)"
      ],
      "metadata": {
        "id": "iWFh4UKIs-EA",
        "outputId": "02b904a2-4abf-4200-bba2-581ede33f421",
        "colab": {
          "base_uri": "https://localhost:8080/"
        }
      },
      "execution_count": null,
      "outputs": [
        {
          "output_type": "stream",
          "name": "stdout",
          "text": [
            "6.5\n",
            "1\n"
          ]
        }
      ]
    },
    {
      "cell_type": "code",
      "source": [
        "# Boolean comparisons\n",
        "\n",
        "x=10\n",
        "y=5\n",
        "\n",
        "is_greater=x>y\n",
        "is_equal=x==y\n",
        "is_not_equal=x !=y\n",
        "\n",
        "print(\"is x greater than y?\" , is_greater)\n",
        "print(\"is x equal to y?\", is_equal)\n",
        "print(\"is x not equal to y?\", is_not_equal)\n",
        "\n",
        "#Variable\n",
        "\n",
        "name= \"Gavin\"\n",
        "age= 22\n",
        "is_student=True\n",
        "print(f\"{name}'s age is {age}. He is a Student:{is_student}\")"
      ],
      "metadata": {
        "colab": {
          "base_uri": "https://localhost:8080/"
        },
        "id": "mxPUb6Wbtx4w",
        "outputId": "2cfa9f61-2b14-4f11-d701-6dfa8b3bb965"
      },
      "execution_count": null,
      "outputs": [
        {
          "output_type": "stream",
          "name": "stdout",
          "text": [
            "is x greater than y? True\n",
            "is x equal to y? False\n",
            "is x not equal to y? True\n",
            "Gavin's age is 22. He is a Student:True\n"
          ]
        }
      ]
    },
    {
      "cell_type": "code",
      "source": [
        "# Functions\n",
        "\n",
        "def greet(name):\n",
        "  return \"Hello,\"+ name + \"!\"\n",
        "my_name=input(\"Enter Your Name: \")\n",
        "greet(my_name)"
      ],
      "metadata": {
        "colab": {
          "base_uri": "https://localhost:8080/",
          "height": 52
        },
        "id": "Cn7RIF25wxOk",
        "outputId": "fead5c1a-31ec-45d7-c6b8-0e53294abc06"
      },
      "execution_count": null,
      "outputs": [
        {
          "name": "stdout",
          "output_type": "stream",
          "text": [
            "Enter Your Name: Gavin\n"
          ]
        },
        {
          "output_type": "execute_result",
          "data": {
            "text/plain": [
              "'Hello,Gavin!'"
            ],
            "application/vnd.google.colaboratory.intrinsic+json": {
              "type": "string"
            }
          },
          "metadata": {},
          "execution_count": 3
        }
      ]
    },
    {
      "cell_type": "code",
      "source": [
        "def add_numbers(a,b):\n",
        "  return a+b\n",
        "a=eval(input(\"Enter First Number: \"))\n",
        "b=eval(input(\"Enter Second Number: \"))\n",
        "sum=add_numbers(a,b)\n",
        "print(f\"The result of adding {a} and {b} is {sum}\")"
      ],
      "metadata": {
        "colab": {
          "base_uri": "https://localhost:8080/"
        },
        "id": "8lU5yk_V0ZU-",
        "outputId": "fc7876ee-6b63-41be-8445-9a801bb026f0"
      },
      "execution_count": null,
      "outputs": [
        {
          "output_type": "stream",
          "name": "stdout",
          "text": [
            "Enter First Number: 3\n",
            "Enter Second Number: 4\n",
            "The result of adding 3 and 4 is 7\n"
          ]
        }
      ]
    },
    {
      "cell_type": "code",
      "source": [
        "#Strings\n",
        "\n",
        "message=\"Hello, World!\"\n",
        "length=len(message)\n",
        "uppercase=message.upper()\n",
        "lowercase=message.lower()\n",
        "substring=message[7:12]\n",
        "print(\"Original message: \", message)\n",
        "print(\"the length is: \", length)\n",
        "print(\"Uppercase: \", uppercase)\n",
        "print(\"Lowercase: \", lowercase)\n",
        "print(\"Part of the message is \", substring)\n"
      ],
      "metadata": {
        "colab": {
          "base_uri": "https://localhost:8080/"
        },
        "id": "HSfP1Uxl2AEp",
        "outputId": "11a55930-86c7-4fa1-cbe9-de466609b95b"
      },
      "execution_count": null,
      "outputs": [
        {
          "output_type": "stream",
          "name": "stdout",
          "text": [
            "Original message:  Hello, World!\n",
            "the length is:  13\n",
            "Uppercase:  HELLO, WORLD!\n",
            "Lowercase:  hello, world!\n",
            "Part of the message is  World\n"
          ]
        }
      ]
    },
    {
      "cell_type": "code",
      "source": [
        "#Basic input\n",
        "last=input(\"Enter your last name \")\n",
        "first=input(\"Enter your first name \")\n",
        "print(f\" {last}, {first}\")"
      ],
      "metadata": {
        "colab": {
          "base_uri": "https://localhost:8080/"
        },
        "id": "73X-54jP3g6z",
        "outputId": "40182876-4430-4c81-bb3d-bfb888036fd2"
      },
      "execution_count": null,
      "outputs": [
        {
          "output_type": "stream",
          "name": "stdout",
          "text": [
            "Enter your last name Paeth\n",
            "Enter your first name Gavin\n",
            " Paeth, Gavin\n"
          ]
        }
      ]
    },
    {
      "cell_type": "code",
      "source": [
        "#Numeric Input\n",
        "age=int(input(\"Enter your age: \"))\n",
        "print(\"You will be\", age+1, \"years old next year\")"
      ],
      "metadata": {
        "colab": {
          "base_uri": "https://localhost:8080/"
        },
        "id": "GiEJ8Rco4lBi",
        "outputId": "24275df0-689c-4692-d893-03a45d40e9c4"
      },
      "execution_count": null,
      "outputs": [
        {
          "output_type": "stream",
          "name": "stdout",
          "text": [
            "Enter your age: 23\n",
            "You will be 24 years old next year\n"
          ]
        }
      ]
    },
    {
      "cell_type": "code",
      "source": [
        "#input calculations\n",
        "\n",
        "num1=float(input(\"Enter a number: \"))\n",
        "num2=float(input(\"Enter a different number: \"))\n",
        "sum=num1+num2\n",
        "print(\"Sum:\",sum)"
      ],
      "metadata": {
        "id": "Gsvcc-XC8OFh"
      },
      "execution_count": null,
      "outputs": []
    },
    {
      "cell_type": "code",
      "source": [
        "#String input concatenation\n",
        "city=input(\"Enter your City: \")\n",
        "country=input(\"Enter your Country: \")\n",
        "location=city+\",\"+country\n",
        "print(\"You are in:\",location)"
      ],
      "metadata": {
        "colab": {
          "base_uri": "https://localhost:8080/"
        },
        "id": "0eN3ifBR8IGL",
        "outputId": "193d2746-2759-457d-d6ec-cf23d32c907b"
      },
      "execution_count": null,
      "outputs": [
        {
          "output_type": "stream",
          "name": "stdout",
          "text": [
            "Enter your City: Milford\n",
            "Enter your Country: US\n",
            "You are in: Milford,US\n"
          ]
        }
      ]
    },
    {
      "cell_type": "code",
      "source": [
        "#Multiple inputs\n",
        "name,age=input(\"Enter your name and age separated by a space: \").split()\n",
        "print(f\"my name is {name} and my age is {age}\")"
      ],
      "metadata": {
        "colab": {
          "base_uri": "https://localhost:8080/"
        },
        "id": "VSLBFb7y450d",
        "outputId": "478ee322-31e8-4873-d678-5fee1f946c6b"
      },
      "execution_count": null,
      "outputs": [
        {
          "output_type": "stream",
          "name": "stdout",
          "text": [
            "Eter your name and age separated by a space: Gavin 22\n",
            "my name is Gavin and my age is 22\n"
          ]
        }
      ]
    }
  ],
  "metadata": {
    "colab": {
      "provenance": [],
      "include_colab_link": true
    },
    "kernelspec": {
      "display_name": "Python 3",
      "name": "python3"
    }
  },
  "nbformat": 4,
  "nbformat_minor": 0
}